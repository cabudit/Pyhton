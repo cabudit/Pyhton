{
  "nbformat": 4,
  "nbformat_minor": 0,
  "metadata": {
    "colab": {
      "name": "Untitled5.ipynb",
      "provenance": [],
      "collapsed_sections": [],
      "include_colab_link": true
    },
    "kernelspec": {
      "name": "python3",
      "display_name": "Python 3"
    },
    "language_info": {
      "name": "python"
    }
  },
  "cells": [
    {
      "cell_type": "markdown",
      "metadata": {
        "id": "view-in-github",
        "colab_type": "text"
      },
      "source": [
        "<a href=\"https://colab.research.google.com/github/cabudit/Pyhton/blob/main/codewars_python_solution.ipynb\" target=\"_parent\"><img src=\"https://colab.research.google.com/assets/colab-badge.svg\" alt=\"Open In Colab\"/></a>"
      ]
    },
    {
      "cell_type": "markdown",
      "metadata": {
        "id": "Lhb3FrtWp_wh"
      },
      "source": [
        "arraydifff.py"
      ]
    },
    {
      "cell_type": "code",
      "metadata": {
        "id": "iRk4NVLPfzZ6"
      },
      "source": [
        "def array_diff(a, b):\n",
        "    for i in b:\n",
        "      if i in a:\n",
        "        for j in range(a.count(i)):\n",
        "          a.remove(i)\n",
        "    return a"
      ],
      "execution_count": null,
      "outputs": []
    },
    {
      "cell_type": "markdown",
      "metadata": {
        "id": "TSU2hPypqTTb"
      },
      "source": [
        "#Unique In Order .py\n",
        "Implement the function unique_in_order which takes as argument a sequence and returns a list of items without any elements with the same value next to each other and preserving the original order of elements.\n",
        "\n",
        "For example:\n",
        "\n",
        "\n",
        "\n",
        "*   unique_in_order('AAAABBBCCDAABBB') == ['A', 'B', 'C', 'D', 'A', 'B']\n",
        "*   unique_in_order('ABBCcAD')         == ['A', 'B', 'C', 'c', 'A', 'D']\n",
        "*   unique_in_order([1,2,2,3,3])       == [1,2,3]\n",
        "\n",
        "solusi \n",
        "1.   membuat variabel persiapan  (char dan x)\n",
        "2.   memanggil setiap huruf di string\n",
        "3.   memasukkan huruf ke variabel char\n",
        "4.   menyimpan huruf di variabel x \n",
        "5.   melakukan pengecekkan jika huruf di i = x maka akan pass, jika berbeda\n",
        "     lanjut \n",
        "6.  mengembalikan looping ke variabel char"
      ]
    },
    {
      "cell_type": "code",
      "metadata": {
        "id": "uYwAa1VZqOKr"
      },
      "source": [
        "# Python3 program to Split string into characters\n",
        "def split(word):\n",
        "    char=[]\n",
        "    x = None\n",
        "    for i in word:\n",
        "        if i != x :\n",
        "          char.append(i)\n",
        "          x = i\n",
        "        elif i == x :\n",
        "          pass\n",
        "    return char\n",
        "\n",
        "\n",
        "# Driver code\n",
        "word = 'geeks'\n",
        "a = split(word)\n",
        "print (a)"
      ],
      "execution_count": null,
      "outputs": []
    },
    {
      "cell_type": "markdown",
      "metadata": {
        "id": "kgrquqP0qSvM"
      },
      "source": [
        "# Exes and Ohs\n",
        "Check to see if a string has the same amount of 'x's and 'o's. The method must return a boolean and be case insensitive. The string can contain any char.\n",
        "\n",
        "Examples input/output:\n",
        "\n",
        "XO(\"ooxx\") => true\n",
        "XO(\"xooxx\") => false\n",
        "XO(\"ooxXm\") => true\n",
        "XO(\"zpzpzpp\") => true // when no 'x' and 'o' is present should return true\n",
        "XO(\"zzoo\") => false\n",
        "\n"
      ]
    },
    {
      "cell_type": "markdown",
      "metadata": {
        "id": "pP5Pp0opDXdl"
      },
      "source": [
        "\n",
        "\n",
        "1.   memecah variabel s menjadi string yang terpisah pisah\n",
        "2.   \n",
        "\n"
      ]
    },
    {
      "cell_type": "code",
      "metadata": {
        "colab": {
          "base_uri": "https://localhost:8080/"
        },
        "id": "SpQyT_5v_Nsa",
        "outputId": "e79d1194-fb7b-44bb-ce57-f3f5ab7c8260"
      },
      "source": [
        "def xo(s):\n",
        " \n",
        "  o = s.count('o') + s.count('O')\n",
        "  x = s.count('x') + s.count('X') \n",
        "  return o == x\n",
        "  \n",
        "s = 'ox'\n",
        "a = xo(s)\n",
        "print(a)"
      ],
      "execution_count": null,
      "outputs": [
        {
          "output_type": "stream",
          "text": [
            "True\n"
          ],
          "name": "stdout"
        }
      ]
    },
    {
      "cell_type": "markdown",
      "metadata": {
        "id": "6sbIBkSqX8of"
      },
      "source": [
        "# Regex validate PIN code\n",
        "ATM machines allow 4 or 6 digit PIN codes and PIN codes cannot contain anything but exactly 4 digits or exactly 6 digits.\n",
        "\n",
        "If the function is passed a valid PIN string, return true, else return false.\n",
        "Examples\n",
        "\n",
        "\"1234\"   -->  true\n",
        "\"12345\"  -->  false\n",
        "\"a234\"   -->  false\n",
        "\n"
      ]
    },
    {
      "cell_type": "code",
      "metadata": {
        "colab": {
          "base_uri": "https://localhost:8080/"
        },
        "id": "7Ki26b3lX70u",
        "outputId": "9fd16cde-eac0-4094-e9fe-38d27f27ab52"
      },
      "source": [
        "def validate_pin(pin):\n",
        "    n = 0  \n",
        "    for i in pin:\n",
        "      n = n + 1\n",
        "      try:\n",
        "        int(i)\n",
        "      except ValueError:\n",
        "        return False\n",
        "    try:\n",
        "      int(pin)\n",
        "      return n == 4 or n == 6\n",
        "    except ValueError:\n",
        "      return False\n",
        "    \n",
        "\n",
        "pin = '00005='\n",
        "print(validate_pin(pin))"
      ],
      "execution_count": null,
      "outputs": [
        {
          "output_type": "stream",
          "text": [
            "False\n"
          ],
          "name": "stdout"
        }
      ]
    },
    {
      "cell_type": "markdown",
      "metadata": {
        "id": "Rev7SFFM7PWt"
      },
      "source": [
        "In this kata you will create a function that takes a list of non-negative integers and strings and returns a new list with the strings filtered out.\n",
        "Example\n",
        "\n",
        "* filter_list([1,2,'a','b']) == [1,2]\n",
        "* filter_list([1,'a','b',0,15]) == [1,0,15]\n",
        "* filter_list([1,2,'aasf','1','123',123]) == [1,2,123]\n",
        "\n",
        "1. membuat variabel penamping\n",
        "2. memanggil setiap data di pada varaibel array\n",
        "3. melakukan pengecekkan tipe data integer dari data yang di panggil\n",
        "4. memasukkan setiap tipe data integer ke dalam veariabel penampung\n",
        "5. return to save value \n"
      ]
    },
    {
      "cell_type": "code",
      "metadata": {
        "colab": {
          "base_uri": "https://localhost:8080/"
        },
        "id": "QXzXUPMx7Om6",
        "outputId": "026f9b0c-2cd7-405c-834d-c2f13b172614"
      },
      "source": [
        "def filter_list(l):\n",
        "    c=[]\n",
        "    for i in l:\n",
        "       if isinstance(i,int) == True :\n",
        "        c.append(i)\n",
        "    return c\n",
        "\n",
        "c = filter_list([1,2,'a','b', '5555'])\n",
        "print(c)"
      ],
      "execution_count": null,
      "outputs": [
        {
          "output_type": "stream",
          "text": [
            "[1, -2]\n"
          ],
          "name": "stdout"
        }
      ]
    },
    {
      "cell_type": "code",
      "metadata": {
        "colab": {
          "base_uri": "https://localhost:8080/"
        },
        "id": "Zn3bHEJ2iE29",
        "outputId": "9792c4fd-feb2-41ec-b784-f1fed9ce7f84"
      },
      "source": [
        "def filter_list(l):\n",
        "  'return a new list with the strings filtered out'\n",
        "  return [i for i in l if not isinstance(i, str)]\n",
        "\n",
        "\n",
        "c = filter_list([1,-2,'a','b', '5555'])\n",
        "print(c)"
      ],
      "execution_count": null,
      "outputs": [
        {
          "output_type": "stream",
          "text": [
            "[1, -2]\n"
          ],
          "name": "stdout"
        }
      ]
    },
    {
      "cell_type": "markdown",
      "metadata": {
        "id": "cHm15FSwiSbc"
      },
      "source": [
        "A pangram is a sentence that contains every single letter of the alphabet at least once. For example, the sentence \"The quick brown fox jumps over the lazy dog\" is a pangram, because it uses the letters A-Z at least once (case is irrelevant).\n",
        "\n",
        "Given a string, detect whether or not it is a pangram. Return True if it is, False if not. Ignore numbers and punctuation.\n",
        "\n",
        "pangram adalah sebuah kalimat yang memiliki setiap huruf dari alfabet minimal 1 huruf\n",
        "\n",
        "1. membuat variabel string yang berisi alfabet a-z\n",
        "2. memanggil setiap huruf dari variabel string\n",
        "3. mengecilkan huruf dari varibel test \n",
        "4. melakukan pengecekkan huruf jika variabel test tidak memiliki salah satu huruf dari varibel test maka akan keluar hasil false\n"
      ]
    },
    {
      "cell_type": "code",
      "metadata": {
        "colab": {
          "base_uri": "https://localhost:8080/"
        },
        "id": "XgcQNdyBiTIa",
        "outputId": "dbd82bbb-379c-4c98-cacc-d213aa667f51"
      },
      "source": [
        "import string\n",
        "\n",
        "def is_pangram(s):\n",
        "    alphabet = \"abcdefghijklmnopqrstuvwxyz\"\n",
        "    for char in alphabet:\n",
        "        if char not in s.lower():\n",
        "            return False\n",
        "  \n",
        "    return True\n"
      ],
      "execution_count": null,
      "outputs": [
        {
          "output_type": "stream",
          "text": [
            "<module 'string' from '/usr/lib/python3.7/string.py'>\n"
          ],
          "name": "stdout"
        }
      ]
    },
    {
      "cell_type": "code",
      "metadata": {
        "id": "TAQC-oZGmINg"
      },
      "source": [
        "import string\n",
        "\n",
        "def is_pangram(s):\n",
        "    s = s.lower()\n",
        "    return all(letter in s for letter in string.lowercase)"
      ],
      "execution_count": null,
      "outputs": []
    },
    {
      "cell_type": "markdown",
      "metadata": {
        "id": "yoMOGdJqnJXa"
      },
      "source": [
        ""
      ]
    },
    {
      "cell_type": "code",
      "metadata": {
        "colab": {
          "base_uri": "https://localhost:8080/"
        },
        "id": "NrppF6-6nJ08",
        "outputId": "7530dc0c-dda4-457a-a638-35befaa78b9c"
      },
      "source": [
        "def is_isogram(string):\n",
        "    string = string.lower()\n",
        "    string = sorted(string)\n",
        "    string = \"\".join(string)\n",
        "    print(string)\n",
        "    char=[]\n",
        "    x = None\n",
        "    for i in string:\n",
        "        if i != x :\n",
        "          char.append(i)\n",
        "          x = i\n",
        "        elif i == x :\n",
        "          return False\n",
        "    return True\n",
        "c='abcdefghijklmnopqrs'  \n",
        "is_isogram(c)"
      ],
      "execution_count": null,
      "outputs": [
        {
          "output_type": "stream",
          "text": [
            "abcdefghijklmnopqrs\n"
          ],
          "name": "stdout"
        }
      ]
    },
    {
      "cell_type": "markdown",
      "metadata": {
        "id": "NuZdqdfUAFtj"
      },
      "source": [
        "#Write Number in Expanded Form.py\n",
        "Write Number in Expanded Form\n",
        "\n",
        "You will be given a number and you will need to return it as a string in Expanded Form. For example:\n",
        "\n",
        "expanded_form(12) # Should return '10 + 2'\n",
        "expanded_form(42) # Should return '40 + 2'\n",
        "expanded_form(70304) # Should return '70000 + 300 + 4'\n",
        "\n",
        "NOTE: All numbers will be whole numbers greater than 0.\n",
        "\n",
        "       def expanded_form(num):\n",
        "           pass\n",
        "\n",
        "1. mengubah variabel num menjadi string\n",
        "2. menghitung besar dari nilai num\n",
        "3. mengulang untuk menghitung nilai num\n",
        "4. jika nilai nilai = 0 maka akan pass"
      ]
    },
    {
      "cell_type": "code",
      "metadata": {
        "id": "2mVcE9lyAGMu",
        "outputId": "4e8cbc54-1778-4ec5-c7e5-2fef606c8380",
        "colab": {
          "base_uri": "https://localhost:8080/"
        }
      },
      "source": [
        "def expanded_form(num):\n",
        "    num = str(num)\n",
        "    n = 0\n",
        "    txt =[]\n",
        "    for i in num :\n",
        "      n = n + 1\n",
        "      if i != '0' :\n",
        "        p = len(num)-n\n",
        "        txt.append(str(int(i)*(10**p)))\n",
        "    return ' + '.join(txt)\n",
        "\n",
        "print(expanded_form(11))"
      ],
      "execution_count": 43,
      "outputs": [
        {
          "output_type": "stream",
          "text": [
            "10 + 1\n"
          ],
          "name": "stdout"
        }
      ]
    },
    {
      "cell_type": "markdown",
      "metadata": {
        "id": "zz-rAdJ2XXKj"
      },
      "source": [
        "There is an array with some numbers. All numbers are equal except for one. Try to find it!\n",
        "\n",
        "find_uniq([ 1, 1, 1, 2, 1, 1 ]) == 2\n",
        "find_uniq([ 0, 0, 0.55, 0, 0 ]) == 0.55\n",
        "\n",
        "It’s guaranteed that array contains at least 3 numbers.\n",
        "\n",
        "The tests contain some very huge arrays, so think about performance.\n",
        "\n",
        "This is the first kata in series:\n",
        "\n",
        "\n",
        "1. memanggil setiap data di array\n",
        "2. menghitung jumlah data yang dipanggil pada array\n",
        "3. jika jumlah data == 1 maka akan return ke data yang di panggil"
      ]
    },
    {
      "cell_type": "code",
      "metadata": {
        "id": "uXXJGUllXX1W",
        "outputId": "11934a70-a4f8-4e04-d31b-0367ff282832",
        "colab": {
          "base_uri": "https://localhost:8080/"
        }
      },
      "source": [
        "def find_uniq(arr):\n",
        "    arr.sort(reverse=True)\n",
        "    for n in arr:\n",
        "        i = arr.count(n)\n",
        "        if i == 1:\n",
        "             return n   # n: unique integer in the array\n",
        "\n",
        "print(find_uniq([ 1, 1, 1, 2, 1, 1 ,3]))"
      ],
      "execution_count": 50,
      "outputs": [
        {
          "output_type": "stream",
          "text": [
            "3\n"
          ],
          "name": "stdout"
        }
      ]
    },
    {
      "cell_type": "markdown",
      "metadata": {
        "id": "MGr98Q5keC5S"
      },
      "source": [
        "Write a function that takes an integer as input, and returns the number of bits that are equal to one in the binary representation of that number. You can guarantee that input is non-negative.\n",
        "\n",
        "Example: The binary representation of 1234 is 10011010010, so the function should return 5 in this case\n",
        "\n"
      ]
    },
    {
      "cell_type": "code",
      "metadata": {
        "id": "ctlSQ5yMeCL5",
        "outputId": "30ee0d77-4355-4cc2-df82-aebc4b02be73",
        "colab": {
          "base_uri": "https://localhost:8080/"
        }
      },
      "source": [
        "def count_bits(n):\n",
        "    n = format(n,'b')\n",
        "    return str(n).count('1')\n",
        "\n",
        "print(count_bits(10))"
      ],
      "execution_count": 61,
      "outputs": [
        {
          "output_type": "stream",
          "text": [
            "2\n"
          ],
          "name": "stdout"
        }
      ]
    }
  ]
}